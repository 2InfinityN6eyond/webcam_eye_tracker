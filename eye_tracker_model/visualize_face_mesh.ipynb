{
 "cells": [
  {
   "cell_type": "code",
   "execution_count": 6,
   "metadata": {},
   "outputs": [
    {
     "name": "stdout",
     "output_type": "stream",
     "text": [
      "9513\n"
     ]
    }
   ],
   "source": [
    "import os\n",
    "import numpy as np\n",
    "from glob import glob\n",
    "import cv2\n",
    "import matplotlib.pyplot as plt\n",
    "import seaborn as sb\n",
    "import json\n",
    "import platform\n",
    "import mediapipe as mp\n",
    "\n",
    "\n",
    "from eye_tracker_dataset import EyeTrackerDataset\n",
    "import sys\n",
    "\n",
    "sys.path.append(\"..\")\n",
    "from eye_tracker_auto_labeller.scripts import mediapipe_visualizer\n",
    "\n",
    "mp_face_mesh = mp.solutions.face_mesh\n",
    "\n",
    "def edge_list_2_path(edge_list) :\n",
    "    tesel = edge_list\n",
    "    change_occured = True\n",
    "    while change_occured :\n",
    "        change_occured = False\n",
    "        for idx in range(len(tesel)) :\n",
    "            target_edge = tesel[idx]\n",
    "            inner_changed = False\n",
    "            for e in tesel :\n",
    "                if e != target_edge and len(e) < 3 :\n",
    "                    edge = e\n",
    "                    if target_edge[-1] == edge[0] :\n",
    "                        target_edge.append(edge[-1])\n",
    "                        tesel.remove(edge)\n",
    "                        change_occured = True\n",
    "                        inner_changed = True\n",
    "                        break\n",
    "                    if target_edge[0] == edge[-1] :\n",
    "                        target_edge.insert(0, edge[0])\n",
    "                        tesel.remove(edge)\n",
    "                        change_occured = True\n",
    "                        inner_changed  = True\n",
    "                        break\n",
    "            if inner_changed :\n",
    "                break\n",
    "    change_occured = True\n",
    "    while change_occured :\n",
    "        change_occured = False\n",
    "        for idx in range(len(tesel)) :\n",
    "            source_path = tesel[idx]\n",
    "            inner_changed = False\n",
    "            for target_path in tesel :\n",
    "                if target_path == source_path :\n",
    "                    continue\n",
    "                if source_path[-1] == target_path[-1] :\n",
    "                    target_path.reverse()\n",
    "                    source_path += target_path[1:]\n",
    "                    tesel.remove(target_path)\n",
    "                    change_occured = True\n",
    "                    inner_changed = True\n",
    "                    break\n",
    "                if source_path[0] == target_path[0] :\n",
    "                    source_path.reverse()\n",
    "                    target_path += source_path[1:]\n",
    "                    tesel.remove(source_path)\n",
    "                    change_occured = True\n",
    "                    inner_changed = True\n",
    "                    break\n",
    "            if inner_changed :\n",
    "                break\n",
    "    return tesel\n",
    "\n",
    "\n",
    "FACE_TESSELATION_PATH_LIST = edge_list_2_path(np.array(list(\n",
    "    mp_face_mesh.FACEMESH_TESSELATION\n",
    ")).tolist())\n",
    "FACE_OVAL_PATH_LIST = edge_list_2_path(np.array(list(\n",
    "    mp_face_mesh.FACEMESH_FACE_OVAL\n",
    ")).tolist())\n",
    "FACE_LIPS_PATH_LIST = edge_list_2_path(np.array(list(\n",
    "    mp_face_mesh.FACEMESH_LIPS\n",
    ")).tolist())\n",
    "FACE_LEFT_EYEBROW_PATH_LIST = edge_list_2_path(np.array(list(\n",
    "    mp_face_mesh.FACEMESH_LEFT_EYEBROW\n",
    ")).tolist())\n",
    "FACE_LEFT_EYE_PATH_LIST = edge_list_2_path(np.array(list(\n",
    "    mp_face_mesh.FACEMESH_LEFT_EYE\n",
    ")).tolist())\n",
    "FACE_LEFT_IRIS_PATH_LIST = edge_list_2_path(np.array(list(\n",
    "    mp_face_mesh.FACEMESH_LEFT_IRIS\n",
    ")).tolist())\n",
    "FACE_RIGHT_EYEBROW_PATH_LIST = edge_list_2_path(np.array(list(\n",
    "    mp_face_mesh.FACEMESH_RIGHT_EYEBROW\n",
    ")).tolist())\n",
    "FACE_RIGHT_EYE_PATH_LIST = edge_list_2_path(np.array(list(\n",
    "    mp_face_mesh.FACEMESH_RIGHT_EYE\n",
    ")).tolist())\n",
    "FACE_RIGHT_IRIS_PATH_LIST = edge_list_2_path(np.array(list(\n",
    "    mp_face_mesh.FACEMESH_RIGHT_IRIS\n",
    ")).tolist())\n",
    "\n",
    "def torch_to_numpy(torch_img) :\n",
    "    return (torch_img.permute([1, 2, 0]).numpy() * 255).astype(np.uint8)\n",
    "\n",
    "def convert2imagecoord(image, array, array_idx_list) :\n",
    "    image_shape = np.array([image.shape[1], image.shape[0]])\n",
    "    return (array[array_idx_list][:,  :2] * image_shape).astype(int)\n",
    "\n",
    "SYSTEM_NAME = platform.system()\n",
    "if SYSTEM_NAME == \"Windows\" :\n",
    "    DATA_ROOT_PATH = \"D:/data\"\n",
    "if SYSTEM_NAME == \"Darwin\" :\n",
    "    DATA_ROOT_PATH = \"../eye_tracker_auto_labeller/data/\"\n",
    "\n",
    "\n",
    "eye_tracker_dataset = EyeTrackerDataset(data_root_path=DATA_ROOT_PATH, return_landmark=False)\n",
    "eye_tracker_dataset_with_landmark = EyeTrackerDataset(data_root_path=DATA_ROOT_PATH)\n",
    "eye_tracker_dataset_full = EyeTrackerDataset(data_root_path=DATA_ROOT_PATH, return_image =True)\n",
    "\n",
    "two_D_visualizer = mediapipe_visualizer.TwoDimensionVisualizer()\n",
    "\n",
    "print(len(eye_tracker_dataset))\n"
   ]
  },
  {
   "cell_type": "code",
   "execution_count": 42,
   "metadata": {},
   "outputs": [
    {
     "ename": "SyntaxError",
     "evalue": "invalid syntax (1563482773.py, line 59)",
     "output_type": "error",
     "traceback": [
      "\u001b[1;36m  Input \u001b[1;32mIn [42]\u001b[1;36m\u001b[0m\n\u001b[1;33m    convert2imagecoord(full_image, face_landmark_array, LIST_IDX_TO_LOOK)[0:3, :],\u001b[0m\n\u001b[1;37m    ^\u001b[0m\n\u001b[1;31mSyntaxError\u001b[0m\u001b[1;31m:\u001b[0m invalid syntax\n"
     ]
    }
   ],
   "source": [
    "DX = 9100\n",
    "LIST_IDX_TO_LOOK = FACE_LEFT_EYE_PATH_LIST[0]\n",
    "\n",
    "\n",
    "data = eye_tracker_dataset_full[IDX]\n",
    "\n",
    "face_landmark_array = data[\"face_landmark_array\"].numpy()\n",
    "full_image = torch_to_numpy(data[\"image\"])\n",
    "image_shape = np.array([full_image.shape[1], full_image.shape[0]])\n",
    "mouse_position_raw = data[\"mouse_position\"].numpy()\n",
    "mouse_position = (mouse_position_raw * image_shape).astype(int)\n",
    "\n",
    "vis_image = full_image.copy()\n",
    "\n",
    "cv2.polylines(\n",
    "    vis_image,\n",
    "    [\n",
    "        convert2imagecoord(full_image, face_landmark_array, LIST_IDX_TO_LOOK),\n",
    "    ],\n",
    "    isClosed=False,\n",
    "    color=(255,255,255),\n",
    "    thickness=2\n",
    ")\n",
    "\n",
    "print('ddddd')\n",
    "'''\n",
    "list(map(\n",
    "    lambda pos : cv2.putText(\n",
    "        vis_image, f\"{pos}\",pos,\n",
    "        cv2.FONT_HERSHEY_COMPLEX_SMALL, 1, (255, 100, 100)\n",
    "    ),\n",
    "    convert2imagecoord(full_image, face_landmark_array, FACE_LEFT_EYE_PATH_LIST[0])[0:3, :]\n",
    "))\n",
    "'''\n",
    "\"\"\"\n",
    "\"\"\"\n",
    "list(map(\n",
    "    lambda pos, list_idx : print(\n",
    "        tuple(pos),\n",
    "        tuple(\n",
    "            cv2.cvtColor(\n",
    "                np.uint8(\n",
    "                    [int(120 * (list_idx / len(LIST_IDX_TO_LOOK))), 255, 255]\n",
    "                ).reshape(1, 1, 3),\n",
    "                cv2.COLOR_HSV2RGB\n",
    "            )[0][0]\n",
    "        )\n",
    "    ),\n",
    "    '''cv2.circle(\n",
    "        vis_image, tuple(pos), 2,\n",
    "        tuple(\n",
    "            cv2.cvtColor(\n",
    "                np.uint8(\n",
    "                    [int(120 * (list_idx / len(LIST_IDX_TO_LOOK))), 255, 255]\n",
    "                ).reshape(1, 1, 3),\n",
    "                cv2.COLOR_HSV2RGB\n",
    "            )[0][0]\n",
    "        ),\n",
    "        2\n",
    "    ),'''\n",
    "    convert2imagecoord(full_image, face_landmark_array, LIST_IDX_TO_LOOK)[0:3, :],\n",
    "    range(len(LIST_IDX_TO_LOOK))\n",
    "))\n",
    "\n",
    "cv2.circle(\n",
    "    vis_image,\n",
    "    tuple(mouse_position),\n",
    "    10,\n",
    "    (255, 50, 50),\n",
    "    20\n",
    ")\n",
    "\n",
    "plt.figure(figsize=(20, 20))\n",
    "plt.imshow(vis_image)\n",
    "plt.show()\n",
    "\n",
    "two_D_visualizer.visualizeFace2D(\n",
    "    vis_image,\n",
    "    face_landmark_array\n",
    ")\n",
    "\n",
    "plt.figure(figsize=(20, 20))\n",
    "plt.imshow(vis_image)\n",
    "plt.show()\n"
   ]
  },
  {
   "cell_type": "code",
   "execution_count": null,
   "metadata": {},
   "outputs": [],
   "source": []
  },
  {
   "cell_type": "code",
   "execution_count": null,
   "metadata": {},
   "outputs": [],
   "source": []
  },
  {
   "cell_type": "code",
   "execution_count": null,
   "metadata": {},
   "outputs": [],
   "source": []
  },
  {
   "cell_type": "code",
   "execution_count": 19,
   "metadata": {},
   "outputs": [
    {
     "data": {
      "text/plain": [
       "array([  0,   0, 255], dtype=uint8)"
      ]
     },
     "execution_count": 19,
     "metadata": {},
     "output_type": "execute_result"
    }
   ],
   "source": [
    "cv2.cvtColor(np.uint8([120, 255, 255]).reshape(1, 1, 3), cv2.COLOR_HSV2RGB)[0][0]"
   ]
  },
  {
   "cell_type": "code",
   "execution_count": null,
   "metadata": {},
   "outputs": [],
   "source": []
  },
  {
   "cell_type": "code",
   "execution_count": 28,
   "metadata": {},
   "outputs": [
    {
     "data": {
      "text/plain": [
       "(255, 60, 0)"
      ]
     },
     "execution_count": 28,
     "metadata": {},
     "output_type": "execute_result"
    }
   ],
   "source": [
    "LIST_IDX_TO_LOOK = FACE_LEFT_EYE_PATH_LIST[0]\n",
    "list_idx = 1\n"
   ]
  },
  {
   "cell_type": "code",
   "execution_count": null,
   "metadata": {},
   "outputs": [],
   "source": []
  },
  {
   "cell_type": "code",
   "execution_count": null,
   "metadata": {},
   "outputs": [],
   "source": []
  },
  {
   "cell_type": "code",
   "execution_count": null,
   "metadata": {},
   "outputs": [],
   "source": []
  }
 ],
 "metadata": {
  "kernelspec": {
   "display_name": "base",
   "language": "python",
   "name": "python3"
  },
  "language_info": {
   "codemirror_mode": {
    "name": "ipython",
    "version": 3
   },
   "file_extension": ".py",
   "mimetype": "text/x-python",
   "name": "python",
   "nbconvert_exporter": "python",
   "pygments_lexer": "ipython3",
   "version": "3.9.12"
  },
  "orig_nbformat": 4
 },
 "nbformat": 4,
 "nbformat_minor": 2
}
